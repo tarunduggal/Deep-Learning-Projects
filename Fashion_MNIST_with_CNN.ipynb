{
  "nbformat": 4,
  "nbformat_minor": 0,
  "metadata": {
    "colab": {
      "name": "Fashion_MNIST_with_CNN.ipynb",
      "provenance": [],
      "collapsed_sections": []
    },
    "kernelspec": {
      "display_name": "Python 3",
      "language": "python",
      "name": "python3"
    },
    "language_info": {
      "codemirror_mode": {
        "name": "ipython",
        "version": 3
      },
      "file_extension": ".py",
      "mimetype": "text/x-python",
      "name": "python",
      "nbconvert_exporter": "python",
      "pygments_lexer": "ipython3",
      "version": "3.8.3"
    }
  },
  "cells": [
    {
      "cell_type": "code",
      "metadata": {
        "colab_type": "code",
        "id": "bcBPg5rU_ObZ",
        "colab": {
          "base_uri": "https://localhost:8080/",
          "height": 51
        },
        "outputId": "aeca50b4-e01c-4b8e-c831-a87b072e91e1"
      },
      "source": [
        "# Install TensorFlow\n",
        "\n",
        "! pip install -q tensorflow-gpu\n",
        "\n",
        "import tensorflow as tf\n",
        "print(tf.__version__)"
      ],
      "execution_count": 1,
      "outputs": [
        {
          "output_type": "stream",
          "text": [
            "\u001b[K     |████████████████████████████████| 320.4MB 46kB/s \n",
            "\u001b[?25h2.3.0\n"
          ],
          "name": "stdout"
        }
      ]
    },
    {
      "cell_type": "code",
      "metadata": {
        "colab_type": "code",
        "id": "eWddM5qR_XXr",
        "colab": {}
      },
      "source": [
        "# additional imports\n",
        "\n",
        "import numpy as np\n",
        "import matplotlib.pyplot as plt\n",
        "import pandas as pd\n",
        "from tensorflow.keras.layers import Input, Conv2D, Dense, Flatten, Dropout\n",
        "from tensorflow.keras.models import Model"
      ],
      "execution_count": 7,
      "outputs": []
    },
    {
      "cell_type": "code",
      "metadata": {
        "colab_type": "code",
        "id": "LYs7lErUAFSG",
        "colab": {
          "base_uri": "https://localhost:8080/",
          "height": 170
        },
        "outputId": "8dfd53d7-5e6a-466c-8cd0-240ba9b48b1f"
      },
      "source": [
        "# Load in the data\n",
        "fashion_mnist = tf.keras.datasets.fashion_mnist\n",
        "\n",
        "(x_train, y_train), (x_test, y_test) = fashion_mnist.load_data()\n",
        "x_train, x_test = x_train / 255.0, x_test / 255.0\n",
        "print(\"x_train.shape:\", x_train.shape)"
      ],
      "execution_count": 3,
      "outputs": [
        {
          "output_type": "stream",
          "text": [
            "Downloading data from https://storage.googleapis.com/tensorflow/tf-keras-datasets/train-labels-idx1-ubyte.gz\n",
            "32768/29515 [=================================] - 0s 0us/step\n",
            "Downloading data from https://storage.googleapis.com/tensorflow/tf-keras-datasets/train-images-idx3-ubyte.gz\n",
            "26427392/26421880 [==============================] - 0s 0us/step\n",
            "Downloading data from https://storage.googleapis.com/tensorflow/tf-keras-datasets/t10k-labels-idx1-ubyte.gz\n",
            "8192/5148 [===============================================] - 0s 0us/step\n",
            "Downloading data from https://storage.googleapis.com/tensorflow/tf-keras-datasets/t10k-images-idx3-ubyte.gz\n",
            "4423680/4422102 [==============================] - 0s 0us/step\n",
            "x_train.shape: (60000, 28, 28)\n"
          ],
          "name": "stdout"
        }
      ]
    },
    {
      "cell_type": "code",
      "metadata": {
        "colab_type": "code",
        "id": "PpAsgliuAbMK",
        "colab": {
          "base_uri": "https://localhost:8080/",
          "height": 34
        },
        "outputId": "5fd0a5cb-05ba-41f9-b82b-457f706615c9"
      },
      "source": [
        "# the data is only 2D!\n",
        "# convolution expects height x width x color\n",
        "\n",
        "x_train = np.expand_dims(x_train, -1)\n",
        "x_test = np.expand_dims(x_test, -1)\n",
        "print(x_train.shape)"
      ],
      "execution_count": 4,
      "outputs": [
        {
          "output_type": "stream",
          "text": [
            "(60000, 28, 28, 1)\n"
          ],
          "name": "stdout"
        }
      ]
    },
    {
      "cell_type": "code",
      "metadata": {
        "colab_type": "code",
        "id": "TS9bnNRlBzO6",
        "colab": {
          "base_uri": "https://localhost:8080/",
          "height": 34
        },
        "outputId": "bb5302a0-7345-4b29-e1ff-18499ca659b2"
      },
      "source": [
        "# number of classes\n",
        "\n",
        "K = len(set(y_train))\n",
        "print(\"number of classes:\", K)"
      ],
      "execution_count": 5,
      "outputs": [
        {
          "output_type": "stream",
          "text": [
            "number of classes: 10\n"
          ],
          "name": "stdout"
        }
      ]
    },
    {
      "cell_type": "code",
      "metadata": {
        "colab_type": "code",
        "id": "LGfSc8XcB7Iz",
        "colab": {}
      },
      "source": [
        "# Build the model using the functional API\n",
        "\n",
        "i = Input(shape=x_train[0].shape)\n",
        "x = Conv2D(32, (3, 3), strides=2, activation='relu')(i)\n",
        "x = Conv2D(64, (3, 3), strides=2, activation='relu')(x)\n",
        "x = Conv2D(128, (3, 3), strides=2, activation='relu')(x)\n",
        "x = Flatten()(x)\n",
        "x = Dropout(0.2)(x)\n",
        "x = Dense(512, activation='relu')(x)\n",
        "x = Dropout(0.2)(x)\n",
        "x = Dense(K, activation='softmax')(x)\n",
        "\n",
        "model = Model(i, x)"
      ],
      "execution_count": 8,
      "outputs": []
    },
    {
      "cell_type": "code",
      "metadata": {
        "colab_type": "code",
        "id": "Sru8O-dJDa-7",
        "colab": {
          "base_uri": "https://localhost:8080/",
          "height": 459
        },
        "outputId": "c04c9f2e-e2f6-4929-b33d-78faf5a99edc"
      },
      "source": [
        "# Compiling the model\n",
        "\n",
        "model.compile(optimizer='adam',\n",
        "              loss='sparse_categorical_crossentropy', \n",
        "              metrics=['accuracy'])\n",
        "\n",
        "model.summary()"
      ],
      "execution_count": 9,
      "outputs": [
        {
          "output_type": "stream",
          "text": [
            "Model: \"functional_1\"\n",
            "_________________________________________________________________\n",
            "Layer (type)                 Output Shape              Param #   \n",
            "=================================================================\n",
            "input_1 (InputLayer)         [(None, 28, 28, 1)]       0         \n",
            "_________________________________________________________________\n",
            "conv2d (Conv2D)              (None, 13, 13, 32)        320       \n",
            "_________________________________________________________________\n",
            "conv2d_1 (Conv2D)            (None, 6, 6, 64)          18496     \n",
            "_________________________________________________________________\n",
            "conv2d_2 (Conv2D)            (None, 2, 2, 128)         73856     \n",
            "_________________________________________________________________\n",
            "flatten (Flatten)            (None, 512)               0         \n",
            "_________________________________________________________________\n",
            "dropout (Dropout)            (None, 512)               0         \n",
            "_________________________________________________________________\n",
            "dense (Dense)                (None, 512)               262656    \n",
            "_________________________________________________________________\n",
            "dropout_1 (Dropout)          (None, 512)               0         \n",
            "_________________________________________________________________\n",
            "dense_1 (Dense)              (None, 10)                5130      \n",
            "=================================================================\n",
            "Total params: 360,458\n",
            "Trainable params: 360,458\n",
            "Non-trainable params: 0\n",
            "_________________________________________________________________\n"
          ],
          "name": "stdout"
        }
      ]
    },
    {
      "cell_type": "code",
      "metadata": {
        "colab_type": "code",
        "id": "RvHQWrpvDa7h",
        "colab": {
          "base_uri": "https://localhost:8080/",
          "height": 697
        },
        "outputId": "db2c9de9-3feb-4084-8721-00a9503be93a"
      },
      "source": [
        "# Training the model\n",
        "\n",
        "r = model.fit(x_train,y_train, validation_data=(x_test, y_test), epochs=20)"
      ],
      "execution_count": 10,
      "outputs": [
        {
          "output_type": "stream",
          "text": [
            "Epoch 1/20\n",
            "1875/1875 [==============================] - 28s 15ms/step - loss: 0.5265 - accuracy: 0.8055 - val_loss: 0.3991 - val_accuracy: 0.8501\n",
            "Epoch 2/20\n",
            "1875/1875 [==============================] - 28s 15ms/step - loss: 0.3670 - accuracy: 0.8616 - val_loss: 0.3456 - val_accuracy: 0.8693\n",
            "Epoch 3/20\n",
            "1875/1875 [==============================] - 28s 15ms/step - loss: 0.3170 - accuracy: 0.8804 - val_loss: 0.3329 - val_accuracy: 0.8806\n",
            "Epoch 4/20\n",
            "1875/1875 [==============================] - 31s 17ms/step - loss: 0.2834 - accuracy: 0.8935 - val_loss: 0.3357 - val_accuracy: 0.8773\n",
            "Epoch 5/20\n",
            "1875/1875 [==============================] - 27s 15ms/step - loss: 0.2573 - accuracy: 0.9021 - val_loss: 0.3003 - val_accuracy: 0.8909\n",
            "Epoch 6/20\n",
            "1875/1875 [==============================] - 27s 15ms/step - loss: 0.2365 - accuracy: 0.9119 - val_loss: 0.3011 - val_accuracy: 0.8924\n",
            "Epoch 7/20\n",
            "1875/1875 [==============================] - 27s 15ms/step - loss: 0.2173 - accuracy: 0.9182 - val_loss: 0.2900 - val_accuracy: 0.8968\n",
            "Epoch 8/20\n",
            "1875/1875 [==============================] - 28s 15ms/step - loss: 0.2001 - accuracy: 0.9240 - val_loss: 0.2995 - val_accuracy: 0.8981\n",
            "Epoch 9/20\n",
            "1875/1875 [==============================] - 27s 14ms/step - loss: 0.1882 - accuracy: 0.9284 - val_loss: 0.3006 - val_accuracy: 0.9014\n",
            "Epoch 10/20\n",
            "1875/1875 [==============================] - 28s 15ms/step - loss: 0.1725 - accuracy: 0.9338 - val_loss: 0.3182 - val_accuracy: 0.9002\n",
            "Epoch 11/20\n",
            "1875/1875 [==============================] - 27s 15ms/step - loss: 0.1630 - accuracy: 0.9369 - val_loss: 0.3166 - val_accuracy: 0.8987\n",
            "Epoch 12/20\n",
            "1875/1875 [==============================] - 27s 14ms/step - loss: 0.1513 - accuracy: 0.9414 - val_loss: 0.3256 - val_accuracy: 0.9005\n",
            "Epoch 13/20\n",
            "1875/1875 [==============================] - 27s 15ms/step - loss: 0.1461 - accuracy: 0.9436 - val_loss: 0.3421 - val_accuracy: 0.8956\n",
            "Epoch 14/20\n",
            "1875/1875 [==============================] - 27s 14ms/step - loss: 0.1347 - accuracy: 0.9483 - val_loss: 0.3243 - val_accuracy: 0.9036\n",
            "Epoch 15/20\n",
            "1875/1875 [==============================] - 26s 14ms/step - loss: 0.1271 - accuracy: 0.9514 - val_loss: 0.3447 - val_accuracy: 0.9013\n",
            "Epoch 16/20\n",
            "1875/1875 [==============================] - 26s 14ms/step - loss: 0.1226 - accuracy: 0.9535 - val_loss: 0.3475 - val_accuracy: 0.9013\n",
            "Epoch 17/20\n",
            "1875/1875 [==============================] - 26s 14ms/step - loss: 0.1162 - accuracy: 0.9560 - val_loss: 0.3609 - val_accuracy: 0.9039\n",
            "Epoch 18/20\n",
            "1875/1875 [==============================] - 26s 14ms/step - loss: 0.1136 - accuracy: 0.9577 - val_loss: 0.3768 - val_accuracy: 0.9034\n",
            "Epoch 19/20\n",
            "1875/1875 [==============================] - 26s 14ms/step - loss: 0.1067 - accuracy: 0.9601 - val_loss: 0.3989 - val_accuracy: 0.9047\n",
            "Epoch 20/20\n",
            "1875/1875 [==============================] - 27s 14ms/step - loss: 0.1063 - accuracy: 0.9602 - val_loss: 0.3850 - val_accuracy: 0.9017\n"
          ],
          "name": "stdout"
        }
      ]
    },
    {
      "cell_type": "code",
      "metadata": {
        "colab_type": "code",
        "id": "C9hKU3KIDa2v",
        "colab": {
          "base_uri": "https://localhost:8080/",
          "height": 282
        },
        "outputId": "b814b6d8-8782-49fa-8dae-501176192427"
      },
      "source": [
        "# Plot loss per iteration\n",
        "\n",
        "plt.plot(r.history['loss'], label='loss')\n",
        "plt.plot(r.history['val_loss'], label='val_loss')\n",
        "plt.legend()"
      ],
      "execution_count": 11,
      "outputs": [
        {
          "output_type": "execute_result",
          "data": {
            "text/plain": [
              "<matplotlib.legend.Legend at 0x7fc1361f9390>"
            ]
          },
          "metadata": {
            "tags": []
          },
          "execution_count": 11
        },
        {
          "output_type": "display_data",
          "data": {
            "image/png": "[encoded data removed]",
            "text/plain": [
              "<Figure size 432x288 with 1 Axes>"
            ]
          },
          "metadata": {
            "tags": [],
            "needs_background": "light"
          }
        }
      ]
    },
    {
      "cell_type": "code",
      "metadata": {
        "colab_type": "code",
        "id": "HY8NuAOXDazD",
        "colab": {
          "base_uri": "https://localhost:8080/",
          "height": 282
        },
        "outputId": "fa7f245b-aef5-4925-c248-d5f927129eb8"
      },
      "source": [
        "# Plot accuracy per iteration\n",
        "\n",
        "plt.plot(r.history['accuracy'], label='acc')\n",
        "plt.plot(r.history['val_accuracy'], label='val_acc')\n",
        "plt.legend()"
      ],
      "execution_count": 12,
      "outputs": [
        {
          "output_type": "execute_result",
          "data": {
            "text/plain": [
              "<matplotlib.legend.Legend at 0x7fc1351246a0>"
            ]
          },
          "metadata": {
            "tags": []
          },
          "execution_count": 12
        },
        {
          "output_type": "display_data",
          "data": {
            "image/png": "[encoded data removed]",
            "text/plain": [
              "<Figure size 432x288 with 1 Axes>"
            ]
          },
          "metadata": {
            "tags": [],
            "needs_background": "light"
          }
        }
      ]
    },
    {
      "cell_type": "code",
      "metadata": {
        "colab_type": "code",
        "id": "oOcM_oa7I39w",
        "colab": {
          "base_uri": "https://localhost:8080/",
          "height": 51
        },
        "outputId": "77f37c89-5dd7-4fb8-ca20-dff9a046bba2"
      },
      "source": [
        "# Model evaluation\n",
        "\n",
        "test_loss, test_accuracy = model.evaluate(x_test, y_test)\n",
        "print('Test Accuracy: {}'.format(test_accuracy))"
      ],
      "execution_count": 13,
      "outputs": [
        {
          "output_type": "stream",
          "text": [
            "313/313 [==============================] - 1s 4ms/step - loss: 0.3850 - accuracy: 0.9017\n",
            "Test Accuracy: 0.9017000198364258\n"
          ],
          "name": "stdout"
        }
      ]
    },
    {
      "cell_type": "code",
      "metadata": {
        "colab_type": "code",
        "id": "rAqS3yF_I4Tu",
        "colab": {}
      },
      "source": [
        "# Model prediction\n",
        "\n",
        "y_pred = model.predict(x_test).argmax(axis=1)"
      ],
      "execution_count": 19,
      "outputs": []
    },
    {
      "cell_type": "code",
      "metadata": {
        "colab_type": "code",
        "id": "Vwj7sZGtI4m3",
        "colab": {
          "base_uri": "https://localhost:8080/",
          "height": 34
        },
        "outputId": "c385a76f-1dae-4daf-c97b-512e05cf55c9"
      },
      "source": [
        "y_pred[20],  y_test[20] # predicted and actual output"
      ],
      "execution_count": 21,
      "outputs": [
        {
          "output_type": "execute_result",
          "data": {
            "text/plain": [
              "(2, 2)"
            ]
          },
          "metadata": {
            "tags": []
          },
          "execution_count": 21
        }
      ]
    },
    {
      "cell_type": "code",
      "metadata": {
        "colab_type": "code",
        "id": "NgtfDCOzI4kC",
        "colab": {
          "base_uri": "https://localhost:8080/",
          "height": 187
        },
        "outputId": "b8be2960-7298-4ad4-dd19-96922f3aafa2"
      },
      "source": [
        "# Plot confusion matrix\n",
        "\n",
        "from sklearn.metrics import confusion_matrix, accuracy_score\n",
        "cm = confusion_matrix(y_test,y_pred)\n",
        "print(cm)"
      ],
      "execution_count": 22,
      "outputs": [
        {
          "output_type": "stream",
          "text": [
            "[[822   0  28  19   4   2 117   0   8   0]\n",
            " [  2 970   1  17   3   0   5   0   2   0]\n",
            " [ 12   1 866   9  47   0  63   0   2   0]\n",
            " [ 10   4  10 920  30   0  25   0   1   0]\n",
            " [  0   0  59  22 839   0  78   0   2   0]\n",
            " [  0   0   0   1   0 979   0  13   1   6]\n",
            " [ 97   0  58  21  81   1 729   0  13   0]\n",
            " [  0   0   0   1   0  18   0 942   1  38]\n",
            " [  2   1   3   2   4   3   5   1 977   2]\n",
            " [  0   0   0   0   0   6   2  18   1 973]]\n"
          ],
          "name": "stdout"
        }
      ]
    },
    {
      "cell_type": "code",
      "metadata": {
        "colab_type": "code",
        "id": "Wom-50jMNZ0J",
        "colab": {
          "base_uri": "https://localhost:8080/",
          "height": 34
        },
        "outputId": "6b7d62a8-def6-4d1a-8644-96c75bd7061e"
      },
      "source": [
        "acc_cm = accuracy_score(y_test, y_pred)\n",
        "print(acc_cm)"
      ],
      "execution_count": 23,
      "outputs": [
        {
          "output_type": "stream",
          "text": [
            "0.9017\n"
          ],
          "name": "stdout"
        }
      ]
    },
    {
      "cell_type": "code",
      "metadata": {
        "colab_type": "code",
        "id": "2Zkl4eWGI4fh",
        "colab": {}
      },
      "source": [
        ""
      ],
      "execution_count": null,
      "outputs": []
    }
  ]
}